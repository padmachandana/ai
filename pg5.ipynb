{
 "cells": [
  {
   "cell_type": "code",
   "execution_count": 11,
   "id": "383b9834",
   "metadata": {},
   "outputs": [
    {
     "name": "stdout",
     "output_type": "stream",
     "text": [
      "Input  [[0.22222222 1.        ]\n",
      " [0.11111111 0.55555556]\n",
      " [0.33333333 0.66666667]]\n",
      "Predicted  [[0.92]\n",
      " [0.86]\n",
      " [0.89]]\n",
      "Actual  [[0.8980346 ]\n",
      " [0.88208133]\n",
      " [0.89026434]]\n"
     ]
    }
   ],
   "source": [
    "import numpy as np\n",
    "X=np.array(([2,9],[1,5],[3,6]),dtype=float)\n",
    "y=np.array(([92],[86],[89]),dtype=float)\n",
    "X=X/np.amax(X)\n",
    "y=y/100\n",
    "\n",
    "def sigmoid(x):\n",
    "    return (1/(1+np.exp(-x)))\n",
    "def de_sigmoid(x):\n",
    "    return x*(1-x)\n",
    "\n",
    "wh=np.random.uniform(size=(2,3))\n",
    "bh=np.random.uniform(size=(1,3))\n",
    "wout=np.random.uniform(size=(3,1))\n",
    "bout=np.random.uniform(size=(1,1))\n",
    "\n",
    "epoch=4000\n",
    "lr=0.1\n",
    "\n",
    "for i in range(epoch):\n",
    "    hinp=np.dot(X,wh)+bh\n",
    "    hlayer_act=sigmoid(hinp)\n",
    "    \n",
    "    outinp=np.dot(hlayer_act,wout)+bout\n",
    "    output=sigmoid(outinp)\n",
    "    \n",
    "    hiddengrad=de_sigmoid(hlayer_act)\n",
    "    outgrad=de_sigmoid(output)\n",
    "    \n",
    "    EO=y-output\n",
    "    d_output=EO*outgrad\n",
    "    \n",
    "    EH=d_output.dot(wout.T)\n",
    "    d_hlayer=EH*hiddengrad\n",
    "    \n",
    "    wout+=hlayer_act.T.dot(d_output)*lr\n",
    "    wh+=X.T.dot(d_hlayer)\n",
    "    \n",
    "print(\"Input \",str(X))\n",
    "print(\"Predicted \",str(y))\n",
    "print(\"Actual \",  output)"
   ]
  },
  {
   "cell_type": "code",
   "execution_count": null,
   "id": "aa62b3c5",
   "metadata": {},
   "outputs": [],
   "source": []
  }
 ],
 "metadata": {
  "kernelspec": {
   "display_name": "Python 3",
   "language": "python",
   "name": "python3"
  },
  "language_info": {
   "codemirror_mode": {
    "name": "ipython",
    "version": 3
   },
   "file_extension": ".py",
   "mimetype": "text/x-python",
   "name": "python",
   "nbconvert_exporter": "python",
   "pygments_lexer": "ipython3",
   "version": "3.8.8"
  }
 },
 "nbformat": 4,
 "nbformat_minor": 5
}
