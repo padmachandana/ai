{
 "cells": [
  {
   "cell_type": "code",
   "execution_count": 1,
   "id": "1be48402",
   "metadata": {},
   "outputs": [
    {
     "name": "stdout",
     "output_type": "stream",
     "text": [
      "path found ['A', 'E', 'D', 'G']\n"
     ]
    }
   ],
   "source": [
    "def aStarAlgo(start_node,stop_node):\n",
    "    open_set=set(start_node)\n",
    "    close_set=set()\n",
    "    g={}\n",
    "    parent={}\n",
    "    \n",
    "    g[start_node]=0\n",
    "    parent[start_node]=start_node\n",
    "    \n",
    "    while len(open_set)>0:\n",
    "        n=None\n",
    "        \n",
    "        for v in open_set:\n",
    "            if n==None or g[v]+heuristic(v)<g[n]+heuristic(n):\n",
    "                n=v\n",
    "        if n==stop_node or Graph_nodes[n]==None :\n",
    "            pass\n",
    "        else:\n",
    "            for (m,weight) in getNeig(n):\n",
    "                if m not in open_set or m not in close_set:\n",
    "                    open_set.add(m)\n",
    "                    g[m]=g[n]+weight\n",
    "                    parent[m]=n\n",
    "\n",
    "                else:\n",
    "                    if(g[m]>g[n]+weigth):\n",
    "                        g[m]=g[n]+weigth\n",
    "                        parent[m]=n\n",
    "                    if m in close_set:\n",
    "                        close_set.remove(m)\n",
    "                        open_set.add(m)\n",
    "\n",
    "        if(n==None):\n",
    "            print(\"No path exists\")\n",
    "            return\n",
    "       \n",
    "        if(n==stop_node):\n",
    "            path=[]\n",
    "            while parent[n]!=n:\n",
    "                path.append(n)\n",
    "                n=parent[n]\n",
    "        \n",
    "            path.append(start_node)\n",
    "            path.reverse()\n",
    "            print(\"path found {}\".format(path))\n",
    "            return\n",
    "    \n",
    "        open_set.remove(n)\n",
    "        close_set.add(n)\n",
    "    print(\"path does not exist\")\n",
    "    return\n",
    "\n",
    "def getNeig(v):\n",
    "    if v in Graph_nodes:\n",
    "        return Graph_nodes[v]\n",
    "    else:\n",
    "        return None\n",
    "\n",
    "def heuristic(n):\n",
    "    H_dist = {\n",
    "    'A': 11,\n",
    "    'B': 6,\n",
    "    'C': 99,\n",
    "    'D': 1,\n",
    "    'E': 7,\n",
    "    'G': 0,\n",
    "    }\n",
    "    return H_dist[n]\n",
    "\n",
    "Graph_nodes = {\n",
    "'A': [('B', 2), ('E', 3)],\n",
    "'B': [('C', 1),('G', 9)],\n",
    "'C': None,\n",
    "'E': [('D', 6)],\n",
    "'D': [('G', 1)],\n",
    "}\n",
    "aStarAlgo('A', 'G')\n",
    "    "
   ]
  },
  {
   "cell_type": "code",
   "execution_count": null,
   "id": "b96216ca",
   "metadata": {},
   "outputs": [],
   "source": []
  }
 ],
 "metadata": {
  "kernelspec": {
   "display_name": "Python 3",
   "language": "python",
   "name": "python3"
  },
  "language_info": {
   "codemirror_mode": {
    "name": "ipython",
    "version": 3
   },
   "file_extension": ".py",
   "mimetype": "text/x-python",
   "name": "python",
   "nbconvert_exporter": "python",
   "pygments_lexer": "ipython3",
   "version": "3.8.8"
  }
 },
 "nbformat": 4,
 "nbformat_minor": 5
}
