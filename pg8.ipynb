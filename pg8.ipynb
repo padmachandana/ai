{
 "cells": [
  {
   "cell_type": "code",
   "execution_count": 2,
   "id": "e9cfb1cb",
   "metadata": {},
   "outputs": [
    {
     "name": "stdout",
     "output_type": "stream",
     "text": [
      "Actual : 2 virginica Predicted : [2] ['virginica'] \n",
      "Actual : 2 virginica Predicted : [2] ['virginica'] \n",
      "Actual : 1 versicolor Predicted : [1] ['versicolor'] \n",
      "Actual : 1 versicolor Predicted : [1] ['versicolor'] \n",
      "Actual : 1 versicolor Predicted : [1] ['versicolor'] \n",
      "Actual : 1 versicolor Predicted : [1] ['versicolor'] \n",
      "Actual : 0 setosa Predicted : [0] ['setosa'] \n",
      "Actual : 1 versicolor Predicted : [1] ['versicolor'] \n",
      "Actual : 2 virginica Predicted : [2] ['virginica'] \n",
      "Actual : 0 setosa Predicted : [0] ['setosa'] \n",
      "Actual : 1 versicolor Predicted : [1] ['versicolor'] \n",
      "Actual : 2 virginica Predicted : [2] ['virginica'] \n",
      "Actual : 0 setosa Predicted : [0] ['setosa'] \n",
      "Actual : 2 virginica Predicted : [2] ['virginica'] \n",
      "Actual : 2 virginica Predicted : [2] ['virginica'] \n",
      "Actual : 1 versicolor Predicted : [1] ['versicolor'] \n",
      "Actual : 0 setosa Predicted : [0] ['setosa'] \n",
      "Actual : 1 versicolor Predicted : [2] ['virginica'] \n",
      "Actual : 0 setosa Predicted : [0] ['setosa'] \n",
      "Actual : 2 virginica Predicted : [2] ['virginica'] \n",
      "Actual : 1 versicolor Predicted : [1] ['versicolor'] \n",
      "Actual : 0 setosa Predicted : [0] ['setosa'] \n",
      "Actual : 0 setosa Predicted : [0] ['setosa'] \n",
      "Actual : 1 versicolor Predicted : [1] ['versicolor'] \n",
      "Actual : 1 versicolor Predicted : [1] ['versicolor'] \n",
      "Actual : 1 versicolor Predicted : [1] ['versicolor'] \n",
      "Actual : 1 versicolor Predicted : [1] ['versicolor'] \n",
      "Actual : 1 versicolor Predicted : [1] ['versicolor'] \n",
      "Actual : 2 virginica Predicted : [2] ['virginica'] \n",
      "Actual : 0 setosa Predicted : [0] ['setosa'] \n",
      "Actual : 0 setosa Predicted : [0] ['setosa'] \n",
      "Actual : 2 virginica Predicted : [2] ['virginica'] \n",
      "Actual : 0 setosa Predicted : [0] ['setosa'] \n",
      "Actual : 0 setosa Predicted : [0] ['setosa'] \n",
      "Actual : 2 virginica Predicted : [2] ['virginica'] \n",
      "Actual : 1 versicolor Predicted : [1] ['versicolor'] \n",
      "Actual : 2 virginica Predicted : [2] ['virginica'] \n",
      "Actual : 2 virginica Predicted : [2] ['virginica'] \n",
      "accuracy = 0.97\n"
     ]
    }
   ],
   "source": [
    "import numpy as np\n",
    "from sklearn.neighbors import KNeighborsClassifier\n",
    "from sklearn.model_selection import train_test_split\n",
    "from sklearn.datasets import load_iris\n",
    "\n",
    "iris=load_iris()\n",
    "X_train,X_test,y_train,y_test =train_test_split(iris.data,iris.target)\n",
    "kn=KNeighborsClassifier(n_neighbors=5)\n",
    "kn.fit(X_train,y_train)\n",
    "for i in range(len(X_test)):\n",
    "    x=X_test[i]\n",
    "    x_new=np.array([x])\n",
    "    prediction=kn.predict(x_new)\n",
    "    print(\"Actual : {0} {1} Predicted : {2} {3} \".format(y_test[i],iris[\"target_names\"][y_test[i]],prediction,iris[\"target_names\"][prediction]))\n",
    "    \n",
    "print(\"accuracy = {:.2f}\".format(kn.score(X_test,y_test)))\n",
    "    "
   ]
  },
  {
   "cell_type": "code",
   "execution_count": null,
   "id": "e731f330",
   "metadata": {},
   "outputs": [],
   "source": []
  }
 ],
 "metadata": {
  "kernelspec": {
   "display_name": "Python 3",
   "language": "python",
   "name": "python3"
  },
  "language_info": {
   "codemirror_mode": {
    "name": "ipython",
    "version": 3
   },
   "file_extension": ".py",
   "mimetype": "text/x-python",
   "name": "python",
   "nbconvert_exporter": "python",
   "pygments_lexer": "ipython3",
   "version": "3.8.8"
  }
 },
 "nbformat": 4,
 "nbformat_minor": 5
}
